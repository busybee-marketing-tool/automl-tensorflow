{
 "cells": [
  {
   "attachments": {},
   "cell_type": "markdown",
   "metadata": {},
   "source": [
    "## [AutoML]訓練済みモデルをローカルで実行する\n",
    "\n",
    "> **Point** <br>✓ Google Cloud AutoMLで訓練済みのモデルをSavedmodel形式(拡張子 .pb)でダウンロードできる.<br>✓ ローカルにTensorflow実行環境がある場合, 訓練済みモデルによる予測をローカルで実行できる.\n",
    "\n",
    "\n",
    "---\n",
    "\n",
    "### TensorFlowのインストール\n",
    "\n",
    "✅ [tensorflow](https://www.tensorflow.org/install?hl=ja)\n",
    "\n"
   ]
  },
  {
   "cell_type": "code",
   "execution_count": 34,
   "metadata": {},
   "outputs": [
    {
     "name": "stdout",
     "output_type": "stream",
     "text": [
      "Collecting opencv-python\n",
      "  Downloading opencv_python-4.7.0.72-cp37-abi3-win_amd64.whl (38.2 MB)\n",
      "     ---------------------------------------- 0.0/38.2 MB ? eta -:--:--\n",
      "     ---------------------------------------- 0.4/38.2 MB 8.9 MB/s eta 0:00:05\n",
      "     - -------------------------------------- 1.1/38.2 MB 11.5 MB/s eta 0:00:04\n",
      "     -- ------------------------------------- 2.0/38.2 MB 14.3 MB/s eta 0:00:03\n",
      "     --- ------------------------------------ 3.1/38.2 MB 16.7 MB/s eta 0:00:03\n",
      "     ---- ----------------------------------- 4.6/38.2 MB 19.4 MB/s eta 0:00:02\n",
      "     ------ --------------------------------- 6.2/38.2 MB 21.9 MB/s eta 0:00:02\n",
      "     -------- ------------------------------- 7.7/38.2 MB 23.3 MB/s eta 0:00:02\n",
      "     --------- ------------------------------ 9.2/38.2 MB 25.5 MB/s eta 0:00:02\n",
      "     ---------- ---------------------------- 10.5/38.2 MB 27.3 MB/s eta 0:00:02\n",
      "     ----------- --------------------------- 11.6/38.2 MB 29.7 MB/s eta 0:00:01\n",
      "     ------------- ------------------------- 12.8/38.2 MB 29.8 MB/s eta 0:00:01\n",
      "     -------------- ------------------------ 14.1/38.2 MB 29.8 MB/s eta 0:00:01\n",
      "     --------------- ----------------------- 15.3/38.2 MB 28.5 MB/s eta 0:00:01\n",
      "     ---------------- ---------------------- 16.2/38.2 MB 27.3 MB/s eta 0:00:01\n",
      "     ----------------- --------------------- 17.2/38.2 MB 26.2 MB/s eta 0:00:01\n",
      "     ------------------ -------------------- 18.1/38.2 MB 25.2 MB/s eta 0:00:01\n",
      "     ------------------- ------------------- 19.0/38.2 MB 24.2 MB/s eta 0:00:01\n",
      "     -------------------- ------------------ 20.1/38.2 MB 23.4 MB/s eta 0:00:01\n",
      "     --------------------- ----------------- 21.1/38.2 MB 22.6 MB/s eta 0:00:01\n",
      "     ---------------------- ---------------- 22.2/38.2 MB 22.6 MB/s eta 0:00:01\n",
      "     ----------------------- --------------- 23.2/38.2 MB 22.6 MB/s eta 0:00:01\n",
      "     ------------------------ -------------- 24.3/38.2 MB 21.8 MB/s eta 0:00:01\n",
      "     ------------------------- ------------- 25.4/38.2 MB 21.8 MB/s eta 0:00:01\n",
      "     -------------------------- ------------ 26.4/38.2 MB 21.8 MB/s eta 0:00:01\n",
      "     ---------------------------- ---------- 27.5/38.2 MB 21.8 MB/s eta 0:00:01\n",
      "     ----------------------------- --------- 28.8/38.2 MB 22.5 MB/s eta 0:00:01\n",
      "     ------------------------------ -------- 29.9/38.2 MB 23.4 MB/s eta 0:00:01\n",
      "     ------------------------------- ------- 31.2/38.2 MB 24.2 MB/s eta 0:00:01\n",
      "     --------------------------------- ----- 32.4/38.2 MB 24.2 MB/s eta 0:00:01\n",
      "     ---------------------------------- ---- 33.6/38.2 MB 25.2 MB/s eta 0:00:01\n",
      "     ----------------------------------- --- 34.9/38.2 MB 26.2 MB/s eta 0:00:01\n",
      "     ------------------------------------ -- 36.2/38.2 MB 27.3 MB/s eta 0:00:01\n",
      "     --------------------------------------  37.6/38.2 MB 26.2 MB/s eta 0:00:01\n",
      "     --------------------------------------  38.2/38.2 MB 27.3 MB/s eta 0:00:01\n",
      "     --------------------------------------  38.2/38.2 MB 27.3 MB/s eta 0:00:01\n",
      "     --------------------------------------- 38.2/38.2 MB 21.1 MB/s eta 0:00:00\n",
      "Requirement already satisfied: numpy>=1.19.3 in c:\\users\\gensh\\onedrive\\担当案件\\fy2223 ツール開発\\automl-tutorial\\local_predict\\.venv\\lib\\site-packages (from opencv-python) (1.23.5)\n",
      "Installing collected packages: opencv-python\n",
      "Successfully installed opencv-python-4.7.0.72\n"
     ]
    }
   ],
   "source": [
    "!pip install --upgrade pip\n",
    "!pip install tensorflow\n",
    "!pip install matplotlib\n",
    "!pip install opencv-python\n",
    "!pip install  pip install ipywidgets"
   ]
  },
  {
   "cell_type": "code",
   "execution_count": 1,
   "metadata": {},
   "outputs": [
    {
     "name": "stdout",
     "output_type": "stream",
     "text": [
      "2.12.0\n"
     ]
    }
   ],
   "source": [
    "import tensorflow as tf\n",
    "print(tf.__version__)"
   ]
  },
  {
   "attachments": {},
   "cell_type": "markdown",
   "metadata": {},
   "source": [
    "---\n",
    "\n",
    "### SavedModelファイルを用いて予測を実行する\n",
    "\n",
    "**参考**\n",
    "\n",
    "✓ [SavedModel 形式の使用](https://www.tensorflow.org/guide/saved_model?hl=ja)  \n",
    "✓ [stack overflow](https://stackoverflow.com/questions/61379555/use-saved-model-pb-from-google-cloud-automl-to-predict-in-python-locally)"
   ]
  },
  {
   "cell_type": "code",
   "execution_count": 5,
   "metadata": {},
   "outputs": [
    {
     "name": "stdout",
     "output_type": "stream",
     "text": [
      "INFO:tensorflow:Saver not created because there are no variables in the graph to restore\n"
     ]
    }
   ],
   "source": [
    "# モデルの読み込み\n",
    "# saved_model.pbを格納したフォルダを指定\n",
    "SAVED_MODEL_DIR = './model'\n",
    "\n",
    "loaded = tf.saved_model.load(SAVED_MODEL_DIR)"
   ]
  },
  {
   "cell_type": "code",
   "execution_count": 4,
   "metadata": {},
   "outputs": [
    {
     "data": {
      "application/vnd.jupyter.widget-view+json": {
       "model_id": "9504ad02c38f4d41a51a25f0124cb02f",
       "version_major": 2,
       "version_minor": 0
      },
      "text/plain": [
       "interactive(children=(Dropdown(description='file', options=('1.jpg', '2.jpg', '3.jpg', '4.jpg', '5.jpg', '6.jp…"
      ]
     },
     "metadata": {},
     "output_type": "display_data"
    }
   ],
   "source": [
    "# 読み込んだモデルで画像分類を行う\n",
    "%matplotlib inline\n",
    "import cv2\n",
    "from matplotlib import pyplot as plt\n",
    "from ipywidgets import interact\n",
    "\n",
    "@interact(file=['{}.jpg'.format(str(i))  for i in range(1, 10, 1)])\n",
    "def predict(file):\n",
    "    # 画像読み込み\n",
    "    img = cv2.imread('./images/{}'.format(file))\n",
    "    plt.imshow(img)\n",
    "    plt.axis('off')\n",
    "\n",
    "    rst,bts = cv2.imencode('.jpg', img)\n",
    "    bimg = [bts.tobytes()]\n",
    "\n",
    "    # 各クラスへの分類確率を算出\n",
    "    infer = loaded.signatures[\"serving_default\"]\n",
    "    result = infer(key=tf.constant('123'), image_bytes=tf.constant(bimg))\n",
    "\n",
    "    print(\"{} \\t\\t{}\".format(\"ラベル\", \"確率 (単位:%)\"))\n",
    "    for label, score in zip(result['labels'].numpy()[0], result['scores'].numpy()[0]):\n",
    "        print(\"{} \\t{:.2f}%\".format(label, score * 100))"
   ]
  }
 ],
 "metadata": {
  "kernelspec": {
   "display_name": ".venv",
   "language": "python",
   "name": "python3"
  },
  "language_info": {
   "codemirror_mode": {
    "name": "ipython",
    "version": 3
   },
   "file_extension": ".py",
   "mimetype": "text/x-python",
   "name": "python",
   "nbconvert_exporter": "python",
   "pygments_lexer": "ipython3",
   "version": "3.10.1"
  },
  "orig_nbformat": 4,
  "vscode": {
   "interpreter": {
    "hash": "30e1b2d0e3e639cfb38d44727fa9f5551207cd842a59587f161267f9c0e94349"
   }
  }
 },
 "nbformat": 4,
 "nbformat_minor": 2
}
